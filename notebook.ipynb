{
 "cells": [
  {
   "cell_type": "markdown",
   "id": "17000260-fe07-4f92-abb4-3d325226eb1f",
   "metadata": {},
   "source": [
    "![eiffel-tower](images/eiffel-tower.png)\n",
    "\n",
    "As a distinguished AI Developer, you've been selected by Peterman Reality Tours, an internationally acclaimed tourism company, to undertake an influential project. This project requires you to harness the potential of OpenAI's API, specifically using its state-of-the-art language model, GPT-3.5 Turbo, to create an AI-powered travel guide for the culturally rich city of Paris.\n",
    "\n",
    "Your creation will become a virtual Parisian expert, delivering valuable insights into the city's iconic landmarks and hidden treasures. The AI will respond intelligently to a set of common questions, providing a more engaging and immersive travel planning experience for the clientele of Peterman Reality Tours.\n",
    "\n",
    "The ultimate aspiration is a user-friendly, AI-driven travel guide that significantly enhances the exploration of Paris. Users will be able to pre-define their questions and receive well-informed answers from the AI, providing a seamless and intuitive travel planning process."
   ]
  },
  {
   "cell_type": "code",
   "execution_count": 1,
   "id": "af542964-72bd-404b-8689-0ddf2cec72b9",
   "metadata": {
    "executionCancelledAt": null,
    "executionTime": 54,
    "lastExecutedAt": 1744522439649,
    "lastExecutedByKernel": "f6f605df-7211-4db7-83d7-e59721a27b47",
    "lastScheduledRunId": null,
    "lastSuccessfullyExecutedCode": "# Start your code here!\nimport os\nfrom openai import OpenAI\n\n# Define the model to use\nmodel = \"gpt-3.5-turbo\"\n\n# Define the client\nclient = OpenAI(api_key=os.environ[\"OPENAI\"])"
   },
   "outputs": [],
   "source": [
    "import os\n",
    "from dotenv import load_dotenv\n",
    "from openai import OpenAI\n",
    "\n",
    "# Load .env file\n",
    "load_dotenv()\n",
    "\n",
    "# Define the model to use\n",
    "model = \"gpt-3.5-turbo\"\n",
    "\n",
    "# Define the client\n",
    "client = OpenAI(api_key=os.environ[\"OPENAI_API_KEY\"])"
   ]
  },
  {
   "cell_type": "code",
   "execution_count": 2,
   "id": "02cd25e8-a1a4-44d6-b99c-7e279af38bfd",
   "metadata": {
    "executionCancelledAt": null,
    "executionTime": 56,
    "lastExecutedAt": 1744522439705,
    "lastExecutedByKernel": "f6f605df-7211-4db7-83d7-e59721a27b47",
    "lastScheduledRunId": null,
    "lastSuccessfullyExecutedCode": "# Initialise the conversation\nconversation = [\n    {\n        \"role\": \"system\",\n        \"content\": \"You are a helpful tour guide who provide concise and accurate responses to tourist inquiries about Paris landmarks.\"\n    }\n]\nconversation"
   },
   "outputs": [
    {
     "data": {
      "text/plain": [
       "[{'role': 'system',\n",
       "  'content': 'You are a helpful tour guide who provide concise and accurate responses to tourist inquiries about Paris landmarks.'}]"
      ]
     },
     "execution_count": 2,
     "metadata": {},
     "output_type": "execute_result"
    }
   ],
   "source": [
    "# Initialise the conversation\n",
    "conversation = [\n",
    "    {\n",
    "        \"role\": \"system\",\n",
    "        \"content\": \"You are a helpful tour guide who provide concise and accurate responses to tourist inquiries about Paris landmarks.\"\n",
    "    }\n",
    "]\n",
    "conversation"
   ]
  },
  {
   "cell_type": "code",
   "execution_count": 3,
   "id": "162d8ca1-f203-412c-80a2-65939848c7b4",
   "metadata": {
    "executionCancelledAt": null,
    "executionTime": 57,
    "lastExecutedAt": 1744522439762,
    "lastExecutedByKernel": "f6f605df-7211-4db7-83d7-e59721a27b47",
    "lastScheduledRunId": null,
    "lastSuccessfullyExecutedCode": "# Define the list of tourist questions about Paris\nquestions = [\n    \"How far away is the Louvre from the Eiffel Tower (in miles) if you are driving?\",\n    \"Where is the Arc de Triomphe?\",\n    \"What are the must-see artworks at the Louvre Museum?\"\n]\n\nquestions"
   },
   "outputs": [
    {
     "data": {
      "text/plain": [
       "['How far away is the Louvre from the Eiffel Tower (in miles) if you are driving?',\n",
       " 'Where is the Arc de Triomphe?',\n",
       " 'What are the must-see artworks at the Louvre Museum?']"
      ]
     },
     "execution_count": 3,
     "metadata": {},
     "output_type": "execute_result"
    }
   ],
   "source": [
    "# Define the list of tourist questions about Paris\n",
    "questions = [\n",
    "    \"How far away is the Louvre from the Eiffel Tower (in miles) if you are driving?\",\n",
    "    \"Where is the Arc de Triomphe?\",\n",
    "    \"What are the must-see artworks at the Louvre Museum?\"\n",
    "]\n",
    "\n",
    "questions"
   ]
  },
  {
   "cell_type": "code",
   "execution_count": 4,
   "id": "4e2f35a0-e1c9-4a5e-bd87-27d228cf3203",
   "metadata": {
    "executionCancelledAt": null,
    "executionTime": null,
    "lastExecutedAt": null,
    "lastExecutedByKernel": null,
    "lastScheduledRunId": null,
    "lastSuccessfullyExecutedCode": null,
    "outputsMetadata": {
     "0": {
      "height": 227,
      "type": "stream"
     }
    }
   },
   "outputs": [
    {
     "name": "stdout",
     "output_type": "stream",
     "text": [
      "Question: How far away is the Louvre from the Eiffel Tower (in miles) if you are driving?\n",
      "Response: The Louvre is approximately 2.5 miles away from the Eiffel Tower if you are driving.\n",
      "--------------------------------------------------\n",
      "Question: Where is the Arc de Triomphe?\n",
      "Response: The Arc de Triomphe is located at the western end of the Champs-Élysées in Paris, France.\n",
      "--------------------------------------------------\n",
      "Question: What are the must-see artworks at the Louvre Museum?\n",
      "Response: Some of the must-see artworks at the Louvre Museum include the Mona Lisa by Leonardo da Vinci, the Venus de Milo, the Winged Victory of Samothrace, and the Raft of the Medusa by Théodore Géricault.\n",
      "--------------------------------------------------\n"
     ]
    }
   ],
   "source": [
    "# Iterate over each question and create the conversation loop.\n",
    "for question in questions:\n",
    "    # Reformat the question string into a message dictionary with role 'user'\n",
    "    question_dict = {\"role\": \"user\", \"content\": question}\n",
    "    \n",
    "    # Append the question dictionary to the conversation list\n",
    "    conversation.append(question_dict)\n",
    "    \n",
    "    # Call the ChatCompletion API to get the model's response using the current conversation history.\n",
    "    response = client.chat.completions.create(\n",
    "        model=model,\n",
    "        messages=conversation,\n",
    "        temperature=0.0,\n",
    "        max_tokens=100\n",
    "    )\n",
    "    \n",
    "    # Extract the text response from the model's output\n",
    "    assistant_reply = response.choices[0].message.content\n",
    "    \n",
    "    # Convert the model's response into a dictionary with role 'assistant'\n",
    "    assistant_message = {\"role\": \"assistant\", \"content\": assistant_reply}\n",
    "    \n",
    "    # Append the assistant's reply dictionary to the conversation list\n",
    "    conversation.append(assistant_message)\n",
    "    \n",
    "    # Print the question and response for quick verification\n",
    "    print(\"Question:\", question)\n",
    "    print(\"Response:\", assistant_reply)\n",
    "    print(\"-\" * 50)"
   ]
  },
  {
   "cell_type": "code",
   "execution_count": 5,
   "id": "1c32eca6-47ca-48d9-b8c4-1e465b8b4b5f",
   "metadata": {
    "executionCancelledAt": null,
    "executionTime": 49,
    "lastExecutedAt": 1744522444192,
    "lastExecutedByKernel": "f6f605df-7211-4db7-83d7-e59721a27b47",
    "lastScheduledRunId": null,
    "lastSuccessfullyExecutedCode": "# Display the complete conversation\nfor message in conversation:\n    print(f\"{message['role'].capitalize()}: {message['content']}\\n\")",
    "outputsMetadata": {
     "0": {
      "height": 332,
      "type": "stream"
     }
    }
   },
   "outputs": [
    {
     "name": "stdout",
     "output_type": "stream",
     "text": [
      "System: You are a helpful tour guide who provide concise and accurate responses to tourist inquiries about Paris landmarks.\n",
      "\n",
      "User: How far away is the Louvre from the Eiffel Tower (in miles) if you are driving?\n",
      "\n",
      "Assistant: The Louvre is approximately 2.5 miles away from the Eiffel Tower if you are driving.\n",
      "\n",
      "User: Where is the Arc de Triomphe?\n",
      "\n",
      "Assistant: The Arc de Triomphe is located at the western end of the Champs-Élysées in Paris, France.\n",
      "\n",
      "User: What are the must-see artworks at the Louvre Museum?\n",
      "\n",
      "Assistant: Some of the must-see artworks at the Louvre Museum include the Mona Lisa by Leonardo da Vinci, the Venus de Milo, the Winged Victory of Samothrace, and the Raft of the Medusa by Théodore Géricault.\n",
      "\n"
     ]
    }
   ],
   "source": [
    "# Display the complete conversation\n",
    "for message in conversation:\n",
    "    print(f\"{message['role'].capitalize()}: {message['content']}\\n\")"
   ]
  },
  {
   "cell_type": "code",
   "execution_count": null,
   "id": "eebde57d-fb61-4681-a64d-a7246686cb7b",
   "metadata": {},
   "outputs": [],
   "source": []
  }
 ],
 "metadata": {
  "editor": "DataLab",
  "kernelspec": {
   "display_name": "Python (paris)",
   "language": "python",
   "name": "paris"
  },
  "language_info": {
   "codemirror_mode": {
    "name": "ipython",
    "version": 3
   },
   "file_extension": ".py",
   "mimetype": "text/x-python",
   "name": "python",
   "nbconvert_exporter": "python",
   "pygments_lexer": "ipython3",
   "version": "3.12.7"
  }
 },
 "nbformat": 4,
 "nbformat_minor": 5
}
